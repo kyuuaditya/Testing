{
 "cells": [
  {
   "cell_type": "code",
   "execution_count": null,
   "metadata": {
    "vscode": {
     "languageId": "plaintext"
    }
   },
   "outputs": [],
   "source": [
    "import numpy as np\n",
    "\n",
    "Given normal vector and arbitrary vector\n",
    "normal_vector = np.array([4, 3, -5])\n",
    "if np.linalg.norm(normal_vector) == 0:\n",
    "    raise ValueError(\"Normal vector cannot be zero.\")\n",
    "\n",
    "arbitrary_vector = np.array([1, 0, 0]) if normal_vector[0] != 0 else np.array([0, 1, 0])\n",
    "\n",
    "# First basis vector (u): Cross product of normal and arbitrary vector\n",
    "basis_u = np.cross(normal_vector, arbitrary_vector)\n",
    "if np.linalg.norm(basis_u) == 0:\n",
    "    raise ValueError(\"Normal vector and arbitrary vector are parallel, resulting in a zero cross product.\")\n",
    "basis_u /= np.linalg.norm(basis_u)  # Normalize\n",
    "\n",
    "# Second basis vector (v): Cross product of normal and basis_u\n",
    "basis_v = np.cross(normal_vector, basis_u)\n",
    "basis_v /= np.linalg.norm(basis_v)  # Normalize\n",
    "\n",
    "# Center point of the plane\n",
    "center_point = np.array([1, 1, 8])\n",
    "\n",
    "# Points to be projected\n",
    "point1 = np.array([6, 4, 3])\n",
    "point2 = np.array([4, 4, 3])\n",
    "\n",
    "# Step 2: Compute vector from center to points and project onto basis vectors\n",
    "def compute_uv(point, center, basis_u, basis_v):\n",
    "    vector_to_point = point - center\n",
    "    u = np.dot(vector_to_point, basis_u)\n",
    "    v = np.dot(vector_to_point, basis_v)\n",
    "    return u, v\n",
    "\n",
    "uv1 = compute_uv(point1, center_point, basis_u, basis_v)\n",
    "uv2 = compute_uv(point2, center_point, basis_u, basis_v)"
   ]
  },
  {
   "cell_type": "code",
   "execution_count": null,
   "metadata": {},
   "outputs": [],
   "source": []
  }
 ],
 "metadata": {
  "language_info": {
   "name": "python"
  }
 },
 "nbformat": 4,
 "nbformat_minor": 2
}
