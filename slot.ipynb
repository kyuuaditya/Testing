{
 "cells": [
  {
   "cell_type": "code",
   "execution_count": 2,
   "metadata": {},
   "outputs": [],
   "source": [
    "import numpy as np\n",
    "import random "
   ]
  },
  {
   "cell_type": "code",
   "execution_count": 74,
   "metadata": {},
   "outputs": [
    {
     "name": "stdout",
     "output_type": "stream",
     "text": [
      "Runs: 185.0 / 10   Balls: 118.0\n",
      "Average Strikerate:  156.77966101694915\n"
     ]
    }
   ],
   "source": [
    "select=random.random()*100\n",
    "runs=0\n",
    "wickets=0\n",
    "batsman=0\n",
    "t=1\n",
    "total=0\n",
    "totalb=0\n",
    "ball=0\n",
    "for i in range(0,t):\n",
    "  runs=0\n",
    "  wickets=0 \n",
    "  ball=0\n",
    "  while(wickets!=10 and ball!=120):\n",
    "    current=random.random()*100\n",
    "    ball+=1\n",
    "    if(current<=27.3 and current >0):\n",
    "        runs+=0\n",
    "        batsman+=0\n",
    "    if(current<=61.2 and current >27.3):\n",
    "        runs+=1\n",
    "        batsman+=1\n",
    "    if(current<=68.1 and current >61.2):\n",
    "        runs+=2\n",
    "        batsman+=2\n",
    "    if(current<=68.3 and current >68.1):\n",
    "        runs+=3\n",
    "        batsman+=3\n",
    "    if(current<=81.9 and current >68.3):\n",
    "        runs+=4\n",
    "        batsman+=4\n",
    "    if(current<=92.9 and current >81.9):\n",
    "        runs+=6\n",
    "        batsman+=6   \n",
    "    if(current<=100 and current >92.9):\n",
    "        wickets+=1 \n",
    "        # print(batsman)\n",
    "        batsman=0\n",
    "    # print(ball,\" \",wickets)    \n",
    "  total+=runs\n",
    "  totalb+=ball\n",
    "  # print(runs)\n",
    "  # print(wickets)  \n",
    "  \n",
    "print(\"Runs:\",total/t,\"/\",wickets,\" \",\"Balls:\",totalb/t)\n",
    "print(\"Average Strikerate: \",(total*100)/totalb)\n"
   ]
  },
  {
   "cell_type": "code",
   "execution_count": 106,
   "metadata": {},
   "outputs": [
    {
     "name": "stdout",
     "output_type": "stream",
     "text": [
      "Runs: 351.067 / 9.524   Balls: 688.609\n",
      "Average Strikerate:  50.98205222412138\n"
     ]
    }
   ],
   "source": [
    "select=random.random()*100\n",
    "runs=0\n",
    "wickets=0\n",
    "batsman=0\n",
    "t=1000\n",
    "total=0\n",
    "totalb=0\n",
    "totalw=0\n",
    "ball=0\n",
    "for i in range(0,t):\n",
    "  runs=0\n",
    "  wickets=0 \n",
    "  ball=0\n",
    "  while(wickets!=10 and ball!=900):\n",
    "    current=random.random()*100\n",
    "    ball+=1\n",
    "    if(current<=73.4 and current >0):\n",
    "        runs+=0\n",
    "        batsman+=0\n",
    "    if(current<=87.7 and current >73.4):\n",
    "        runs+=1\n",
    "        batsman+=1\n",
    "    if(current<=91.3 and current >87.7):\n",
    "        runs+=2\n",
    "        batsman+=2\n",
    "    if(current<=92.2 and current >91.3):\n",
    "        runs+=3\n",
    "        batsman+=3\n",
    "    if(current<=98 and current >92.2):\n",
    "        runs+=4\n",
    "        batsman+=4\n",
    "    if(current<=98.6 and current >98):\n",
    "        runs+=6\n",
    "        batsman+=6   \n",
    "    if(current<=100 and current >98.6):\n",
    "        wickets+=1 \n",
    "        # print(batsman)\n",
    "        batsman=0\n",
    "    # print(ball,\" \",wickets) \n",
    "  totalw+=wickets  #    \n",
    "  total+=runs\n",
    "  totalb+=ball\n",
    "  # print(runs)\n",
    "  # print(wickets)  \n",
    "  \n",
    "print(\"Runs:\",total/t,\"/\",totalw/t,\" \",\"Balls:\",totalb/t)\n",
    "print(\"Average Strikerate: \",(total*100)/totalb)\n"
   ]
  }
 ],
 "metadata": {
  "kernelspec": {
   "display_name": "Python 3",
   "language": "python",
   "name": "python3"
  },
  "language_info": {
   "codemirror_mode": {
    "name": "ipython",
    "version": 3
   },
   "file_extension": ".py",
   "mimetype": "text/x-python",
   "name": "python",
   "nbconvert_exporter": "python",
   "pygments_lexer": "ipython3",
   "version": "3.12.7"
  }
 },
 "nbformat": 4,
 "nbformat_minor": 2
}
